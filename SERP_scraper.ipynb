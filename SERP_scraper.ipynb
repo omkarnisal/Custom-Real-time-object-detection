{
  "nbformat": 4,
  "nbformat_minor": 0,
  "metadata": {
    "colab": {
      "provenance": [],
      "authorship_tag": "ABX9TyNvLiTLGkplXKfenpYy/xSY",
      "include_colab_link": true
    },
    "kernelspec": {
      "name": "python3",
      "display_name": "Python 3"
    },
    "language_info": {
      "name": "python"
    }
  },
  "cells": [
    {
      "cell_type": "markdown",
      "metadata": {
        "id": "view-in-github",
        "colab_type": "text"
      },
      "source": [
        "<a href=\"https://colab.research.google.com/github/omkarnisal/Custom-Real-time-object-detection/blob/main/SERP_scraper.ipynb\" target=\"_parent\"><img src=\"https://colab.research.google.com/assets/colab-badge.svg\" alt=\"Open In Colab\"/></a>"
      ]
    },
    {
      "cell_type": "code",
      "execution_count": null,
      "metadata": {
        "colab": {
          "base_uri": "https://localhost:8080/"
        },
        "id": "EfE9ibx-tAbh",
        "outputId": "4a40a0b6-dd49-4229-a8a6-05709034bfe9"
      },
      "outputs": [
        {
          "output_type": "stream",
          "name": "stdout",
          "text": [
            "Error processing https://maps.google.com/maps%3Fq%3Dsite:pitcs.in%2B%2522financial%2522%2BOR%2B%2522report%2522%2BOR%2B%2522statement%2522%26um%3D1%26ie%3DUTF-8: 'NoneType' object has no attribute 'get_text'\n",
            "Error processing /search%3Fq%3Dsite:pitcs.in%2B%2522financial%2522%2BOR%2B%2522report%2522%2BOR%2B%2522statement%2522%26sca_esv%3D85af15397c77c0f6%26ie%3DUTF-8%26tbm%3Dshop%26source%3Dlnms: No connection adapters were found for '/search%3Fq%3Dsite:pitcs.in%2B%2522financial%2522%2BOR%2B%2522report%2522%2BOR%2B%2522statement%2522%26sca_esv%3D85af15397c77c0f6%26ie%3DUTF-8%26tbm%3Dshop%26source%3Dlnms'\n",
            "Error processing https://accounts.google.com/ServiceLogin%3Fcontinue%3Dhttps://www.google.com/search%253Fq%253Dsite:pitcs.in%252B%252522financial%252522%252BOR%252B%252522report%252522%252BOR%252B%252522statement%252522%26hl%3Den: 'NoneType' object has no attribute 'get_text'\n",
            "Company: pitcs.in\n",
            "Category: High\n",
            "\n",
            "\n",
            "Category: Medium\n",
            "- https://www.pitcs.in/how-to-be-financially-independent-in-india/\n",
            "- https://www.pitcs.in/difference-between-employee-and-employer/\n",
            "- https://www.pitcs.in/employee-benefits-in-india-2021/\n",
            "- https://www.pitcs.in/category/how-to/\n",
            "- https://www.pitcs.in/what-is-a-salary-advance-and-how-to-manage-it/\n",
            "- https://www.pitcs.in/recruitment-process-outsourcing-benefits/\n",
            "- https://www.pitcs.in/types-of-workplace-discrimination/\n",
            "- https://www.pitcs.in/measures-to-control-inflation/\n",
            "\n",
            "\n",
            "Category: Low\n",
            "- https://www.pitcs.in/effective-employee-retention-strategies/\n",
            "- https://support.google.com/websearch%3Fp%3Dws_settings_location%26hl%3Den\n",
            "\n",
            "\n"
          ]
        }
      ],
      "source": [
        "import requests\n",
        "from bs4 import BeautifulSoup\n",
        "import re\n",
        "\n",
        "# List of company domains\n",
        "companies = [\n",
        "    \"pitcs.in\",\n",
        "    \"joyitsolutions.co\",\n",
        "    \"peepalconsulting.com\",\n",
        "    \"pradeepit.com\",\n",
        "    \"mekhalyn.com\",\n",
        "    \"insightconsultants.co\",\n",
        "    \"ascent-hr.com\",\n",
        "    \"siemens.com\",\n",
        "    \"dexteronweb.com\"\n",
        "]\n",
        "\n",
        "# Replace this with your actual User-Agent\n",
        "headers = {'User-Agent': 'Your User-Agent Here'}\n",
        "\n",
        "def fetch_links_for_company(company):\n",
        "    \"\"\"Fetches links for a specific company related to 'financial report'.\"\"\"\n",
        "    query = f'site:{company} \"financial\" OR \"report\" OR \"statement\"'\n",
        "    url = f'https://www.google.com/search?q={query}'\n",
        "    response = requests.get(url, headers=headers)\n",
        "    soup = BeautifulSoup(response.text, 'html.parser')\n",
        "    links = []\n",
        "    for link in soup.find_all('a', href=True):\n",
        "        href = link['href']\n",
        "        if '/url?q=' in href and not 'webcache' in href:\n",
        "            actual_url = href.split('&')[0].split('/url?q=')[1]\n",
        "            links.append(actual_url)\n",
        "    return links\n",
        "\n",
        "def classify_link_relevance(url):\n",
        "    \"\"\"Classifies a link's relevance to financial reports or statements.\"\"\"\n",
        "    try:\n",
        "        response = requests.get(url, headers=headers)\n",
        "        soup = BeautifulSoup(response.text, 'html.parser')\n",
        "        text = soup.body.get_text(separator=' ', strip=True).lower()\n",
        "        if \"financial report\" in text or \"financial statement\" in text:\n",
        "            return \"High\"\n",
        "        elif \"financial\" in text:\n",
        "            return \"Medium\"\n",
        "        else:\n",
        "            return \"Low\"\n",
        "    except Exception as e:\n",
        "        print(f\"Error processing {url}: {str(e)}\")\n",
        "        return \"Error\"\n",
        "\n",
        "def categorize_company_links(companies):\n",
        "    \"\"\"Categorizes links for each company based on their relevance.\"\"\"\n",
        "    company_categories = {}\n",
        "    for company in companies:\n",
        "        links = fetch_links_for_company(company)\n",
        "        categories = {\"High\": [], \"Medium\": [], \"Low\": []}\n",
        "        for link in links:\n",
        "            category = classify_link_relevance(link)\n",
        "            if category in categories:\n",
        "                categories[category].append(link)\n",
        "        company_categories[company] = categories\n",
        "    return company_categories\n",
        "\n",
        "# Due to the nature of live scraping and requests to external sites, execute cautiously and respect usage limits.\n",
        "company_links_categorized = categorize_company_links(companies[:1])  # Limiting to the first company for demonstration\n",
        "\n",
        "# Display the categorized links for the company\n",
        "for company, categories in company_links_categorized.items():\n",
        "    print(f\"Company: {company}\")\n",
        "    for category, links in categories.items():\n",
        "        print(f\"Category: {category}\")\n",
        "        for link in links:\n",
        "            print(f\"- {link}\")\n",
        "        print(\"\\n\")\n"
      ]
    }
  ]
}